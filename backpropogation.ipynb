{
 "cells": [
  {
   "cell_type": "code",
   "execution_count": 1,
   "metadata": {},
   "outputs": [],
   "source": [
    "import numpy as np"
   ]
  },
  {
   "cell_type": "code",
   "execution_count": 2,
   "metadata": {},
   "outputs": [],
   "source": [
    "class NeuralNetwork:\n",
    "    def __init__(self,input,hidden,output) -> None:\n",
    "        self.input = input\n",
    "        self.hidden = hidden\n",
    "        self.output = output\n",
    "        \n",
    "        # initialize weights\n",
    "        self.weight_ih = np.random.randn(input,hidden)\n",
    "        self.weight_oh = np.random.randn(hidden,output)\n",
    "        \n",
    "        self.bias_hidden = np.random.randn(1,hidden)\n",
    "        self.bias_output = np.random.randn(1,output)\n",
    "    \n",
    "    def sigmoid(self,x):\n",
    "        return 1/(1+np.exp(-x))\n",
    "\n",
    "    def sigmoid_derivative(self,x):\n",
    "        return x*(1-x)\n",
    "    \n",
    "    def feed_fwd(self, x):\n",
    "        self.hidden_act = np.dot(x, self.weight_ih)+ self.bias_hidden\n",
    "        self.hidden_output = self.sigmoid(self.hidden_act)\n",
    "        \n",
    "        self.output_act = np.dot(self.hidden_output, self.weight_oh) + self.bias_output\n",
    "        self.output_pred = self.sigmoid(self.output_act)\n",
    "        \n",
    "        return self.output_pred\n",
    "    \n",
    "    def backward(self, X, y, lr):\n",
    "        output_error = y - self.output_pred\n",
    "        output_delta = output_error * self.sigmoid_derivative(self.output_pred)\n",
    "        \n",
    "        hidden_error = np.dot(output_error,self.weight_oh.T)\n",
    "        hidden_delta = hidden_error * self.sigmoid_derivative(self.hidden_output)\n",
    "        \n",
    "        self.weight_oh += np.dot(self.hidden_output.T, output_delta)*lr\n",
    "        self.bias_output += np.sum(output_delta,axis = 0,keepdims= True)*lr\n",
    "        self.weight_ih += np.dot(X.T, hidden_delta)*lr\n",
    "        self.bias_hidden += np.sum(hidden_delta, axis = 0, keepdims=True)*lr"
   ]
  },
  {
   "cell_type": "code",
   "execution_count": null,
   "metadata": {},
   "outputs": [],
   "source": []
  }
 ],
 "metadata": {
  "kernelspec": {
   "display_name": "venv",
   "language": "python",
   "name": "venv"
  },
  "language_info": {
   "codemirror_mode": {
    "name": "ipython",
    "version": 3
   },
   "file_extension": ".py",
   "mimetype": "text/x-python",
   "name": "python",
   "nbconvert_exporter": "python",
   "pygments_lexer": "ipython3",
   "version": "3.10.12"
  }
 },
 "nbformat": 4,
 "nbformat_minor": 2
}
