{
 "cells": [
  {
   "cell_type": "code",
   "execution_count": 1,
   "metadata": {},
   "outputs": [
    {
     "name": "stdout",
     "output_type": "stream",
     "text": [
      "Requirement already satisfied: transformers[torch] in /mnt/e/Machine_learning/venv/lib/python3.10/site-packages (4.42.0.dev0)\n",
      "Requirement already satisfied: tokenizers<0.20,>=0.19 in /mnt/e/Machine_learning/venv/lib/python3.10/site-packages (from transformers[torch]) (0.19.1)\n",
      "Requirement already satisfied: tqdm>=4.27 in /mnt/e/Machine_learning/venv/lib/python3.10/site-packages (from transformers[torch]) (4.66.4)\n",
      "Requirement already satisfied: filelock in /mnt/e/Machine_learning/venv/lib/python3.10/site-packages (from transformers[torch]) (3.13.1)\n",
      "Requirement already satisfied: huggingface-hub<1.0,>=0.23.2 in /mnt/e/Machine_learning/venv/lib/python3.10/site-packages (from transformers[torch]) (0.23.4)\n",
      "Requirement already satisfied: safetensors>=0.4.1 in /mnt/e/Machine_learning/venv/lib/python3.10/site-packages (from transformers[torch]) (0.4.3)\n",
      "Requirement already satisfied: pyyaml>=5.1 in /mnt/e/Machine_learning/venv/lib/python3.10/site-packages (from transformers[torch]) (6.0.1)\n",
      "Requirement already satisfied: requests in /mnt/e/Machine_learning/venv/lib/python3.10/site-packages (from transformers[torch]) (2.32.3)\n",
      "Requirement already satisfied: numpy<2.0,>=1.17 in /mnt/e/Machine_learning/venv/lib/python3.10/site-packages (from transformers[torch]) (1.26.4)\n",
      "Requirement already satisfied: regex!=2019.12.17 in /mnt/e/Machine_learning/venv/lib/python3.10/site-packages (from transformers[torch]) (2024.5.15)\n",
      "Requirement already satisfied: packaging>=20.0 in /mnt/e/Machine_learning/venv/lib/python3.10/site-packages (from transformers[torch]) (24.0)\n",
      "Requirement already satisfied: torch in /mnt/e/Machine_learning/venv/lib/python3.10/site-packages (from transformers[torch]) (2.3.1+cu118)\n",
      "Requirement already satisfied: accelerate>=0.21.0 in /mnt/e/Machine_learning/venv/lib/python3.10/site-packages (from transformers[torch]) (0.31.0)\n",
      "Requirement already satisfied: psutil in /mnt/e/Machine_learning/venv/lib/python3.10/site-packages (from accelerate>=0.21.0->transformers[torch]) (5.9.8)\n",
      "Requirement already satisfied: typing-extensions>=3.7.4.3 in /mnt/e/Machine_learning/venv/lib/python3.10/site-packages (from huggingface-hub<1.0,>=0.23.2->transformers[torch]) (4.11.0)\n",
      "Requirement already satisfied: fsspec>=2023.5.0 in /mnt/e/Machine_learning/venv/lib/python3.10/site-packages (from huggingface-hub<1.0,>=0.23.2->transformers[torch]) (2024.2.0)\n",
      "Requirement already satisfied: nvidia-cuda-nvrtc-cu11==11.8.89 in /mnt/e/Machine_learning/venv/lib/python3.10/site-packages (from torch->transformers[torch]) (11.8.89)\n",
      "Requirement already satisfied: nvidia-cusolver-cu11==11.4.1.48 in /mnt/e/Machine_learning/venv/lib/python3.10/site-packages (from torch->transformers[torch]) (11.4.1.48)\n",
      "Requirement already satisfied: nvidia-cufft-cu11==10.9.0.58 in /mnt/e/Machine_learning/venv/lib/python3.10/site-packages (from torch->transformers[torch]) (10.9.0.58)\n",
      "Requirement already satisfied: nvidia-cudnn-cu11==8.7.0.84 in /mnt/e/Machine_learning/venv/lib/python3.10/site-packages (from torch->transformers[torch]) (8.7.0.84)\n",
      "Requirement already satisfied: networkx in /mnt/e/Machine_learning/venv/lib/python3.10/site-packages (from torch->transformers[torch]) (3.2.1)\n",
      "Requirement already satisfied: jinja2 in /mnt/e/Machine_learning/venv/lib/python3.10/site-packages (from torch->transformers[torch]) (3.1.3)\n",
      "Requirement already satisfied: nvidia-cublas-cu11==11.11.3.6 in /mnt/e/Machine_learning/venv/lib/python3.10/site-packages (from torch->transformers[torch]) (11.11.3.6)\n",
      "Requirement already satisfied: nvidia-cusparse-cu11==11.7.5.86 in /mnt/e/Machine_learning/venv/lib/python3.10/site-packages (from torch->transformers[torch]) (11.7.5.86)\n",
      "Requirement already satisfied: nvidia-cuda-cupti-cu11==11.8.87 in /mnt/e/Machine_learning/venv/lib/python3.10/site-packages (from torch->transformers[torch]) (11.8.87)\n",
      "Requirement already satisfied: nvidia-curand-cu11==10.3.0.86 in /mnt/e/Machine_learning/venv/lib/python3.10/site-packages (from torch->transformers[torch]) (10.3.0.86)\n",
      "Requirement already satisfied: triton==2.3.1 in /mnt/e/Machine_learning/venv/lib/python3.10/site-packages (from torch->transformers[torch]) (2.3.1)\n",
      "Requirement already satisfied: sympy in /mnt/e/Machine_learning/venv/lib/python3.10/site-packages (from torch->transformers[torch]) (1.12)\n",
      "Requirement already satisfied: nvidia-cuda-runtime-cu11==11.8.89 in /mnt/e/Machine_learning/venv/lib/python3.10/site-packages (from torch->transformers[torch]) (11.8.89)\n",
      "Requirement already satisfied: nvidia-nvtx-cu11==11.8.86 in /mnt/e/Machine_learning/venv/lib/python3.10/site-packages (from torch->transformers[torch]) (11.8.86)\n",
      "Requirement already satisfied: nvidia-nccl-cu11==2.20.5 in /mnt/e/Machine_learning/venv/lib/python3.10/site-packages (from torch->transformers[torch]) (2.20.5)\n",
      "Requirement already satisfied: idna<4,>=2.5 in /mnt/e/Machine_learning/venv/lib/python3.10/site-packages (from requests->transformers[torch]) (3.7)\n",
      "Requirement already satisfied: urllib3<3,>=1.21.1 in /mnt/e/Machine_learning/venv/lib/python3.10/site-packages (from requests->transformers[torch]) (2.2.1)\n",
      "Requirement already satisfied: certifi>=2017.4.17 in /mnt/e/Machine_learning/venv/lib/python3.10/site-packages (from requests->transformers[torch]) (2024.2.2)\n",
      "Requirement already satisfied: charset-normalizer<4,>=2 in /mnt/e/Machine_learning/venv/lib/python3.10/site-packages (from requests->transformers[torch]) (3.3.2)\n",
      "Requirement already satisfied: MarkupSafe>=2.0 in /mnt/e/Machine_learning/venv/lib/python3.10/site-packages (from jinja2->torch->transformers[torch]) (2.1.5)\n",
      "Requirement already satisfied: mpmath>=0.19 in /mnt/e/Machine_learning/venv/lib/python3.10/site-packages (from sympy->torch->transformers[torch]) (1.3.0)\n",
      "Requirement already satisfied: accelerate in /mnt/e/Machine_learning/venv/lib/python3.10/site-packages (0.31.0)\n",
      "Requirement already satisfied: safetensors>=0.3.1 in /mnt/e/Machine_learning/venv/lib/python3.10/site-packages (from accelerate) (0.4.3)\n",
      "Requirement already satisfied: pyyaml in /mnt/e/Machine_learning/venv/lib/python3.10/site-packages (from accelerate) (6.0.1)\n",
      "Requirement already satisfied: huggingface-hub in /mnt/e/Machine_learning/venv/lib/python3.10/site-packages (from accelerate) (0.23.4)\n",
      "Requirement already satisfied: psutil in /mnt/e/Machine_learning/venv/lib/python3.10/site-packages (from accelerate) (5.9.8)\n",
      "Requirement already satisfied: torch>=1.10.0 in /mnt/e/Machine_learning/venv/lib/python3.10/site-packages (from accelerate) (2.3.1+cu118)\n",
      "Requirement already satisfied: packaging>=20.0 in /mnt/e/Machine_learning/venv/lib/python3.10/site-packages (from accelerate) (24.0)\n",
      "Requirement already satisfied: numpy>=1.17 in /mnt/e/Machine_learning/venv/lib/python3.10/site-packages (from accelerate) (1.26.4)\n",
      "Requirement already satisfied: nvidia-nccl-cu11==2.20.5 in /mnt/e/Machine_learning/venv/lib/python3.10/site-packages (from torch>=1.10.0->accelerate) (2.20.5)\n",
      "Requirement already satisfied: nvidia-cusolver-cu11==11.4.1.48 in /mnt/e/Machine_learning/venv/lib/python3.10/site-packages (from torch>=1.10.0->accelerate) (11.4.1.48)\n",
      "Requirement already satisfied: nvidia-cusparse-cu11==11.7.5.86 in /mnt/e/Machine_learning/venv/lib/python3.10/site-packages (from torch>=1.10.0->accelerate) (11.7.5.86)\n",
      "Requirement already satisfied: filelock in /mnt/e/Machine_learning/venv/lib/python3.10/site-packages (from torch>=1.10.0->accelerate) (3.13.1)\n",
      "Requirement already satisfied: nvidia-cudnn-cu11==8.7.0.84 in /mnt/e/Machine_learning/venv/lib/python3.10/site-packages (from torch>=1.10.0->accelerate) (8.7.0.84)\n",
      "Requirement already satisfied: nvidia-cufft-cu11==10.9.0.58 in /mnt/e/Machine_learning/venv/lib/python3.10/site-packages (from torch>=1.10.0->accelerate) (10.9.0.58)\n",
      "Requirement already satisfied: nvidia-cublas-cu11==11.11.3.6 in /mnt/e/Machine_learning/venv/lib/python3.10/site-packages (from torch>=1.10.0->accelerate) (11.11.3.6)\n",
      "Requirement already satisfied: nvidia-curand-cu11==10.3.0.86 in /mnt/e/Machine_learning/venv/lib/python3.10/site-packages (from torch>=1.10.0->accelerate) (10.3.0.86)\n",
      "Requirement already satisfied: nvidia-nvtx-cu11==11.8.86 in /mnt/e/Machine_learning/venv/lib/python3.10/site-packages (from torch>=1.10.0->accelerate) (11.8.86)\n",
      "Requirement already satisfied: triton==2.3.1 in /mnt/e/Machine_learning/venv/lib/python3.10/site-packages (from torch>=1.10.0->accelerate) (2.3.1)\n",
      "Requirement already satisfied: networkx in /mnt/e/Machine_learning/venv/lib/python3.10/site-packages (from torch>=1.10.0->accelerate) (3.2.1)\n",
      "Requirement already satisfied: sympy in /mnt/e/Machine_learning/venv/lib/python3.10/site-packages (from torch>=1.10.0->accelerate) (1.12)\n",
      "Requirement already satisfied: typing-extensions>=4.8.0 in /mnt/e/Machine_learning/venv/lib/python3.10/site-packages (from torch>=1.10.0->accelerate) (4.11.0)\n",
      "Requirement already satisfied: nvidia-cuda-runtime-cu11==11.8.89 in /mnt/e/Machine_learning/venv/lib/python3.10/site-packages (from torch>=1.10.0->accelerate) (11.8.89)\n",
      "Requirement already satisfied: jinja2 in /mnt/e/Machine_learning/venv/lib/python3.10/site-packages (from torch>=1.10.0->accelerate) (3.1.3)\n",
      "Requirement already satisfied: fsspec in /mnt/e/Machine_learning/venv/lib/python3.10/site-packages (from torch>=1.10.0->accelerate) (2024.2.0)\n",
      "Requirement already satisfied: nvidia-cuda-cupti-cu11==11.8.87 in /mnt/e/Machine_learning/venv/lib/python3.10/site-packages (from torch>=1.10.0->accelerate) (11.8.87)\n",
      "Requirement already satisfied: nvidia-cuda-nvrtc-cu11==11.8.89 in /mnt/e/Machine_learning/venv/lib/python3.10/site-packages (from torch>=1.10.0->accelerate) (11.8.89)\n",
      "Requirement already satisfied: tqdm>=4.42.1 in /mnt/e/Machine_learning/venv/lib/python3.10/site-packages (from huggingface-hub->accelerate) (4.66.4)\n",
      "Requirement already satisfied: requests in /mnt/e/Machine_learning/venv/lib/python3.10/site-packages (from huggingface-hub->accelerate) (2.32.3)\n",
      "Requirement already satisfied: MarkupSafe>=2.0 in /mnt/e/Machine_learning/venv/lib/python3.10/site-packages (from jinja2->torch>=1.10.0->accelerate) (2.1.5)\n",
      "Requirement already satisfied: charset-normalizer<4,>=2 in /mnt/e/Machine_learning/venv/lib/python3.10/site-packages (from requests->huggingface-hub->accelerate) (3.3.2)\n",
      "Requirement already satisfied: urllib3<3,>=1.21.1 in /mnt/e/Machine_learning/venv/lib/python3.10/site-packages (from requests->huggingface-hub->accelerate) (2.2.1)\n",
      "Requirement already satisfied: idna<4,>=2.5 in /mnt/e/Machine_learning/venv/lib/python3.10/site-packages (from requests->huggingface-hub->accelerate) (3.7)\n",
      "Requirement already satisfied: certifi>=2017.4.17 in /mnt/e/Machine_learning/venv/lib/python3.10/site-packages (from requests->huggingface-hub->accelerate) (2024.2.2)\n",
      "Requirement already satisfied: mpmath>=0.19 in /mnt/e/Machine_learning/venv/lib/python3.10/site-packages (from sympy->torch>=1.10.0->accelerate) (1.3.0)\n"
     ]
    }
   ],
   "source": [
    "!pip install -q git+https://github.com/huggingface/transformers.git\n",
    "!pip install transformers[torch]\n",
    "!pip install accelerate -U\n",
    "!pip install -q datasets seqeval"
   ]
  },
  {
   "cell_type": "code",
   "execution_count": 4,
   "metadata": {},
   "outputs": [],
   "source": [
    "import torch\n",
    "from transformers import LayoutLMv3Config, LayoutLMv3Model\n",
    "import pandas as pd\n",
    "from datasets import load_dataset"
   ]
  },
  {
   "cell_type": "markdown",
   "metadata": {},
   "source": [
    "# Dataset"
   ]
  },
  {
   "cell_type": "code",
   "execution_count": 3,
   "metadata": {},
   "outputs": [],
   "source": [
    "train_image_folder = '/mnt/e/Machine_Learning/dataset/SROIE2019/train/img'\n",
    "train_entities_folder = '/mnt/e/Machine_Learning/dataset/SROIE2019/train/entities'\n",
    "train_box_folder = '/mnt/e/Machine_Learning/dataset/SROIE2019/train/box'\n",
    "test_image_folder = '/mnt/e/Machine_Learning/dataset/SROIE2019/test/img'\n",
    "test_entities_folder = '/mnt/e/Machine_Learning/dataset/SROIE2019/test/entities'\n",
    "test_box_folder = '/mnt/e/Machine_Learning/dataset/SROIE2019/test/box'"
   ]
  },
  {
   "cell_type": "code",
   "execution_count": null,
   "metadata": {},
   "outputs": [],
   "source": []
  }
 ],
 "metadata": {
  "kernelspec": {
   "display_name": "venv",
   "language": "python",
   "name": "venv"
  },
  "language_info": {
   "codemirror_mode": {
    "name": "ipython",
    "version": 3
   },
   "file_extension": ".py",
   "mimetype": "text/x-python",
   "name": "python",
   "nbconvert_exporter": "python",
   "pygments_lexer": "ipython3",
   "version": "3.10.12"
  }
 },
 "nbformat": 4,
 "nbformat_minor": 2
}
