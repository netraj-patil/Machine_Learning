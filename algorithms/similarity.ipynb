{
 "cells": [
  {
   "cell_type": "code",
   "execution_count": null,
   "metadata": {},
   "outputs": [],
   "source": []
  },
  {
   "cell_type": "code",
   "execution_count": null,
   "metadata": {},
   "outputs": [],
   "source": []
  },
  {
   "cell_type": "code",
   "execution_count": 2,
   "metadata": {},
   "outputs": [
    {
     "name": "stdout",
     "output_type": "stream",
     "text": [
      "[0, 1, 1, 0, 1, 1]\n",
      "[1, 0, 1, 1, 1, 0]\n",
      "[1, 1, 0, 1, 1, 1]\n",
      "[0, 1, 1, 0, 1, 1]\n",
      "[1, 1, 1, 1, 0, 1]\n",
      "[1, 0, 1, 1, 1, 0]\n"
     ]
    }
   ],
   "source": [
    "def nominal_dissimilarity(data):\n",
    "    n = len(data)\n",
    "    dissimilarity_matrix = [[0 for _ in range(n)] for _ in range(n)]\n",
    "    \n",
    "    for i in range(n):\n",
    "        for j in range(0, i):\n",
    "            dissimilarity = int(not(data[i] == data[j]))\n",
    "            dissimilarity_matrix[i][j] = dissimilarity\n",
    "            dissimilarity_matrix[j][i] = dissimilarity\n",
    "    \n",
    "    return dissimilarity_matrix\n",
    "\n",
    "# Example usage\n",
    "nominal_data = ['red', 'blue', 'green', 'red', 'yellow', 'blue']\n",
    "result = nominal_dissimilarity(nominal_data)\n",
    "\n",
    "# Print the dissimilarity matrix\n",
    "for row in result:\n",
    "    print(row)"
   ]
  },
  {
   "cell_type": "code",
   "execution_count": 3,
   "metadata": {},
   "outputs": [
    {
     "name": "stderr",
     "output_type": "stream",
     "text": [
      "<>:14: SyntaxWarning: list indices must be integers or slices, not tuple; perhaps you missed a comma?\n",
      "<>:14: SyntaxWarning: list indices must be integers or slices, not tuple; perhaps you missed a comma?\n",
      "/tmp/ipykernel_6275/1552258661.py:14: SyntaxWarning: list indices must be integers or slices, not tuple; perhaps you missed a comma?\n",
      "  contigency_matrix = [[q,r][s,t]]\n"
     ]
    }
   ],
   "source": [
    "def binary_dissimilarity_symmetric(list1,list2):\n",
    "    if not len(list1) == len(list2):\n",
    "        return\n",
    "    \n",
    "    q = list1.count(1) + list2.count(1)\n",
    "    r = list1.count(1) + list2.count(0)\n",
    "    s = list1.count(0) + list2.count(1)\n",
    "    t = list1.count(0) + list2.count(0)\n",
    "    \n",
    "    p = len(list1) + len(list2)\n",
    "    if p is not (q+r+s+t):\n",
    "        return\n",
    "    \n",
    "    contigency_matrix = [[q,r][s,t]]\n",
    "    \n",
    "    dissimilarity = (r+s)/p\n",
    "    \n",
    "    return contigency_matrix, dissimilarity"
   ]
  },
  {
   "cell_type": "code",
   "execution_count": 5,
   "metadata": {},
   "outputs": [
    {
     "name": "stderr",
     "output_type": "stream",
     "text": [
      "<>:14: SyntaxWarning: list indices must be integers or slices, not tuple; perhaps you missed a comma?\n",
      "<>:14: SyntaxWarning: list indices must be integers or slices, not tuple; perhaps you missed a comma?\n",
      "/tmp/ipykernel_6275/2127930399.py:14: SyntaxWarning: list indices must be integers or slices, not tuple; perhaps you missed a comma?\n",
      "  contigency_matrix = [[q,r][s,t]]\n"
     ]
    }
   ],
   "source": [
    "def binary_dissimilarity_asymmetric(list1,list2):\n",
    "    if not len(list1) == len(list2):\n",
    "        return\n",
    "    \n",
    "    q = list1.count(1) + list2.count(1)\n",
    "    r = list1.count(1) + list2.count(0)\n",
    "    s = list1.count(0) + list2.count(1)\n",
    "    t = list1.count(0) + list2.count(0)\n",
    "    \n",
    "    p = len(list1) + len(list2)\n",
    "    if p is not (q+r+s+t):\n",
    "        return\n",
    "    \n",
    "    contigency_matrix = [[q,r][s,t]]\n",
    "    \n",
    "    dissimilarity = (r+s)/(q+r+s)\n",
    "    \n",
    "    return contigency_matrix, dissimilarity"
   ]
  },
  {
   "cell_type": "code",
   "execution_count": 6,
   "metadata": {},
   "outputs": [],
   "source": [
    "import math"
   ]
  },
  {
   "cell_type": "code",
   "execution_count": 7,
   "metadata": {},
   "outputs": [],
   "source": [
    "def euclidean_distance(list1,list2):\n",
    "    distance = 0\n",
    "    for i,j in zip(list1,list2):\n",
    "        distance += (i-j)**2\n",
    "    return math.sqrt(distance)"
   ]
  },
  {
   "cell_type": "code",
   "execution_count": 18,
   "metadata": {},
   "outputs": [],
   "source": [
    "def manhatten_distance(list1,list2):\n",
    "    distance = 0\n",
    "    for i,j in zip(list1,list2):\n",
    "        distance += abs(i-j)\n",
    "    return distance"
   ]
  },
  {
   "cell_type": "code",
   "execution_count": 19,
   "metadata": {},
   "outputs": [
    {
     "data": {
      "text/plain": [
       "7"
      ]
     },
     "execution_count": 19,
     "metadata": {},
     "output_type": "execute_result"
    }
   ],
   "source": [
    "manhatten_distance([5,2,3],[4,5,6])"
   ]
  },
  {
   "cell_type": "code",
   "execution_count": 20,
   "metadata": {},
   "outputs": [],
   "source": [
    "def supremum_distance(list1,list2):\n",
    "    distance = []\n",
    "    for i,j in zip(list1,list2):\n",
    "        distance.append(abs(i-j))\n",
    "    return max(distance)"
   ]
  },
  {
   "cell_type": "code",
   "execution_count": null,
   "metadata": {},
   "outputs": [],
   "source": []
  }
 ],
 "metadata": {
  "kernelspec": {
   "display_name": "venv",
   "language": "python",
   "name": "venv"
  },
  "language_info": {
   "codemirror_mode": {
    "name": "ipython",
    "version": 3
   },
   "file_extension": ".py",
   "mimetype": "text/x-python",
   "name": "python",
   "nbconvert_exporter": "python",
   "pygments_lexer": "ipython3",
   "version": "3.10.12"
  }
 },
 "nbformat": 4,
 "nbformat_minor": 2
}
